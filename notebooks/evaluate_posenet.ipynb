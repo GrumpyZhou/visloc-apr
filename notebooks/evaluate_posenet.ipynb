{
 "cells": [
  {
   "cell_type": "markdown",
   "metadata": {},
   "source": [
    "# Evaluate PoseNet"
   ]
  },
  {
   "cell_type": "code",
   "execution_count": 11,
   "metadata": {},
   "outputs": [
    {
     "name": "stdout",
     "output_type": "stream",
     "text": [
      "The autoreload extension is already loaded. To reload it, use:\n",
      "  %reload_ext autoreload\n",
      "Load all weigths\n",
      "Evaluate on dataset:ShopFacade\n",
      "Accuracy: (0.98m, 6.75deg) Pass(2m, 5deg): 21.57% \n"
     ]
    }
   ],
   "source": [
    "%load_ext autoreload\n",
    "%autoreload 2\n",
    "import sys\n",
    "sys.path.append('..')\n",
    "import os\n",
    "import time\n",
    "import torch\n",
    "import torch.utils.data as data\n",
    "import numpy as np\n",
    "\n",
    "from networks import PoseNet\n",
    "from utils.notebook.config_helper import AbsDummyConfig\n",
    "from utils.datasets.abspose import AbsPoseDataset\n",
    "from abspose import test\n",
    "\n",
    "\n",
    "# Cambridge landmarks\n",
    "data_dir = '../data/CambridgeLandmarks'\n",
    "dataset = 'ShopFacade'\n",
    "weights_dir = '../output/model_exports/models/posenet/nobeta/CambridgeLandmarks/ShopFacade/lr5e-3_wd1e-4_sx0.0_sq-3.0/checkpoint_350_0.98m_6.75deg.pth'\n",
    "config = AbsDummyConfig(weights_dir, learn_weighting=True, gpu=0)\n",
    "net = PoseNet(config)\n",
    "datasrc = AbsPoseDataset(dataset, data_dir, pose_txt='dataset_test.txt', transforms=config.ops)\n",
    "data_loader = data.DataLoader(datasrc, batch_size=config.batch_size, shuffle=False, num_workers=0)\n",
    "log = None\n",
    "err = test(net, config, log, data_loader)\n"
   ]
  }
 ],
 "metadata": {
  "kernelspec": {
   "display_name": "Python [conda env:visloc_apr]",
   "language": "python",
   "name": "conda-env-visloc_apr-py"
  },
  "language_info": {
   "codemirror_mode": {
    "name": "ipython",
    "version": 3
   },
   "file_extension": ".py",
   "mimetype": "text/x-python",
   "name": "python",
   "nbconvert_exporter": "python",
   "pygments_lexer": "ipython3",
   "version": "3.7.3"
  }
 },
 "nbformat": 4,
 "nbformat_minor": 2
}
